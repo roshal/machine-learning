{
 "cells": [
  {
   "cell_type": "code",
   "execution_count": 16,
   "metadata": {},
   "outputs": [],
   "source": [
    "import numpy"
   ]
  },
  {
   "cell_type": "code",
   "execution_count": 17,
   "metadata": {},
   "outputs": [],
   "source": [
    "class class_neural_network():\n",
    "\t#\n",
    "\tdef __init__(self):\n",
    "\t\t# Seed the random number generator, so it generates the same numbers\n",
    "\t\t# every time the program runs.\n",
    "\t\tnumpy.random.seed(1)\n",
    "\t\t#\n",
    "\t\t# We model a single neuron, with 3 input connections and 1 output connection.\n",
    "\t\t# We assign random weights to a 3 x 1 matrix, with values in the range -1 to 1\n",
    "\t\t# and mean 0.\n",
    "\t\tself.synaptic_weights = 2 * numpy.random.random((3, 1)) - 1\n",
    "\t#\n",
    "\t# The Sigmoid function, which describes an S shaped curve.\n",
    "\t# We pass the weighted sum of the inputs through this function to\n",
    "\t# normalise them between 0 and 1.\n",
    "\tdef __sigmoid(self, x):\n",
    "\t\treturn 1 / (1 + numpy.exp(-x))\n",
    "\t#\n",
    "\t# The derivative of the Sigmoid function.\n",
    "\t# This is the gradient of the Sigmoid curve.\n",
    "\t# It indicates how confident we are about the existing weight.\n",
    "\tdef __sigmoid_derivative(self, x):\n",
    "\t\treturn x * (1 - x)\n",
    "\t#\n",
    "\t# We train the neural network through a process of trial and error.\n",
    "\t# Adjusting the synaptic weights each time.\n",
    "\tdef train(self, training_set_inputs, training_set_outputs, number_of_training_iterations):\n",
    "\t\tfor iteration in range(number_of_training_iterations):\n",
    "\t\t\t# Pass the training set through our neural network (a single neuron).\n",
    "\t\t\toutput = self.think(training_set_inputs)\n",
    "\t\t\t#\n",
    "\t\t\t# Calculate the error (The difference between the desired output\n",
    "\t\t\t# and the predicted output).\n",
    "\t\t\terror = training_set_outputs - output\n",
    "\t\t\t#\n",
    "\t\t\t# Multiply the error by the input and again by the gradient of the Sigmoid curve.\n",
    "\t\t\t# This means less confident weights are adjusted more.\n",
    "\t\t\t# This means inputs, which are zero, do not cause changes to the weights.\n",
    "\t\t\tadjustment = numpy.dot(training_set_inputs.T, error * self.__sigmoid_derivative(output))\n",
    "\t\t\t#\n",
    "\t\t\t# Adjust the weights.\n",
    "\t\t\tself.synaptic_weights += adjustment\n",
    "\t#\n",
    "\t# The neural network thinks.\n",
    "\tdef think(self, inputs):\n",
    "\t\t# Pass inputs through our neural network (our single neuron).\n",
    "\t\treturn self.__sigmoid(numpy.dot(inputs, self.synaptic_weights))"
   ]
  },
  {
   "cell_type": "code",
   "execution_count": 18,
   "metadata": {
    "scrolled": false
   },
   "outputs": [
    {
     "name": "stdout",
     "output_type": "stream",
     "text": [
      "Random starting synaptic weights: \n",
      "[[-0.16595599]\n",
      " [ 0.44064899]\n",
      " [-0.99977125]]\n",
      "New synaptic weights after training: \n",
      "[[ 9.67299303]\n",
      " [-0.2078435 ]\n",
      " [-4.62963669]]\n",
      "Considering new situation [1, 0, 0] -> ?: \n",
      "[0.99993704]\n"
     ]
    }
   ],
   "source": [
    "# Intialise a single neuron neural network.\n",
    "neural_network = class_neural_network()\n",
    "#\n",
    "print('Random starting synaptic weights: ')\n",
    "print(neural_network.synaptic_weights)\n",
    "#\n",
    "# The training set. We have 4 examples, each consisting of 3 input values\n",
    "# and 1 output value.\n",
    "training_set_inputs = numpy.array([[0, 0, 1], [1, 1, 1], [1, 0, 1], [0, 1, 1]])\n",
    "training_set_outputs = numpy.array([[0, 1, 1, 0]]).T\n",
    "#\n",
    "# Train the neural network using a training set.\n",
    "# Do it 10,000 times and make small adjustments each time.\n",
    "neural_network.train(training_set_inputs, training_set_outputs, 10000)\n",
    "#\n",
    "print('New synaptic weights after training: ')\n",
    "print(neural_network.synaptic_weights)\n",
    "#\n",
    "# Test the neural network with a new situation.\n",
    "print('Considering new situation [1, 0, 0] -> ?: ')\n",
    "print(neural_network.think(numpy.array([1, 0, 0])))"
   ]
  }
 ],
 "metadata": {
  "kernelspec": {
   "display_name": "Python 3",
   "language": "python",
   "name": "python3"
  },
  "language_info": {
   "codemirror_mode": {
    "name": "ipython",
    "version": 3
   },
   "file_extension": ".py",
   "mimetype": "text/x-python",
   "name": "python",
   "nbconvert_exporter": "python",
   "pygments_lexer": "ipython3",
   "version": "3.6.1"
  }
 },
 "nbformat": 4,
 "nbformat_minor": 2
}
